{
 "cells": [
  {
   "cell_type": "code",
   "execution_count": 220,
   "id": "16e792ba",
   "metadata": {},
   "outputs": [
    {
     "name": "stdout",
     "output_type": "stream",
     "text": [
      "what genre do you prefer ?\n"
     ]
    }
   ],
   "source": [
    "print('what genre do you prefer ?')"
   ]
  },
  {
   "cell_type": "code",
   "execution_count": 221,
   "id": "31ff3c66",
   "metadata": {
    "scrolled": true
   },
   "outputs": [
    {
     "name": "stdout",
     "output_type": "stream",
     "text": [
      "jazz\n"
     ]
    }
   ],
   "source": [
    "user_pick = input().casefold()"
   ]
  },
  {
   "cell_type": "code",
   "execution_count": 223,
   "id": "307b8b8a",
   "metadata": {},
   "outputs": [],
   "source": [
    "blues = ['I Cant Quit You Baby – Otis Rush.' , \n",
    "\"I'd Rather Go Blind – Etta James.\" ,\n",
    "'Crossroad Blues – Robert Johnson.' ,\n",
    "'Pride and Joy – Stevie Ray Vaughan.', \n",
    "\"I'm Tore Down – Freddy King. \" ,\n",
    "\"Born Under A Bad Sign – Albert King.\" ,\n",
    "'Sunshine of Your Love – Cream.' , \n",
    "'Hoochie Coochie Man – Muddy Waters.'\n",
    "        ]"
   ]
  },
  {
   "cell_type": "code",
   "execution_count": 224,
   "id": "70b784fd",
   "metadata": {},
   "outputs": [],
   "source": [
    "jazz = [\"All The Things You Are.\" , \n",
    "\"Georgia On My Mind.\",\n",
    "\"Body and Soul.\",\n",
    "\"Fly Me to the Moon.\" ,\n",
    "\"Night and Day.\"] \n"
   ]
  },
  {
   "cell_type": "code",
   "execution_count": 225,
   "id": "677fcfc4",
   "metadata": {},
   "outputs": [],
   "source": [
    "rock = [\"Skullcrusher\", \n",
    "\"Spirit of the Beehive\", \n",
    "\"For Your Health\", \n",
    "\"Thirdface\", \n",
    "\"Iceage\",\n",
    "\"Wolf Alice\"]"
   ]
  },
  {
   "cell_type": "code",
   "execution_count": 226,
   "id": "e289817e",
   "metadata": {},
   "outputs": [],
   "source": [
    "country = [\"I Walk the Line\" ,\n",
    "\"Jolene\" ,\n",
    "\"Friends in Low Places\", \n",
    "\"Choices\" ,\n",
    "\"Concrete Angel\" ,\n",
    "\"Kiss an Angel Good Morning\" ,\n",
    "\"Where Were You\",\n",
    "\"Live Like You Were Dying\" ]"
   ]
  },
  {
   "cell_type": "code",
   "execution_count": 227,
   "id": "cf5c00df",
   "metadata": {},
   "outputs": [],
   "source": [
    "dance = [\"We Are Family\" ,\n",
    "\"The Hustle\",\n",
    "\"I Will Survive\" ,\n",
    "\"Thank You\"]"
   ]
  },
  {
   "cell_type": "code",
   "execution_count": 228,
   "id": "3e4813b2",
   "metadata": {},
   "outputs": [],
   "source": [
    "genre = [\"blues\", \"jazz\" , \"rock\" , \"country\" , \"dance\"]"
   ]
  },
  {
   "cell_type": "code",
   "execution_count": 229,
   "id": "91c07c83",
   "metadata": {},
   "outputs": [],
   "source": [
    "import random"
   ]
  },
  {
   "cell_type": "code",
   "execution_count": 230,
   "id": "0fae8085",
   "metadata": {},
   "outputs": [
    {
     "name": "stdout",
     "output_type": "stream",
     "text": [
      "Night and Day.\n"
     ]
    }
   ],
   "source": [
    "i = user_pick\n",
    "for i in genre :\n",
    "    if user_pick == \"blues\":\n",
    "        blues_song = random.choice(blues)\n",
    "        print(blues_song)\n",
    "        break\n",
    "    elif user_pick == \"jazz\" :\n",
    "        jazz_song = random.choice(jazz)\n",
    "        print(jazz_song)\n",
    "        break      \n",
    "    elif user_pick == \"rock\" :\n",
    "        rock_song = random.choice(rock)\n",
    "        print(rock_song)\n",
    "        break\n",
    "    elif user_pick == \"country\":\n",
    "        country_song = random.choice(country)\n",
    "        print(country_song)\n",
    "        break\n",
    "    elif user_pick == \"dance\" :\n",
    "        dance_song = random.choice(dance)\n",
    "        print(dance_song)\n",
    "        break\n",
    "    else:\n",
    "        print(\"pick another genre\")\n",
    "        break\n",
    "     \n"
   ]
  },
  {
   "cell_type": "code",
   "execution_count": null,
   "id": "bbe3e0b1",
   "metadata": {},
   "outputs": [],
   "source": []
  },
  {
   "cell_type": "code",
   "execution_count": null,
   "id": "26adfb3b",
   "metadata": {},
   "outputs": [],
   "source": []
  }
 ],
 "metadata": {
  "kernelspec": {
   "display_name": "Python 3",
   "language": "python",
   "name": "python3"
  },
  "language_info": {
   "codemirror_mode": {
    "name": "ipython",
    "version": 3
   },
   "file_extension": ".py",
   "mimetype": "text/x-python",
   "name": "python",
   "nbconvert_exporter": "python",
   "pygments_lexer": "ipython3",
   "version": "3.8.8"
  }
 },
 "nbformat": 4,
 "nbformat_minor": 5
}
